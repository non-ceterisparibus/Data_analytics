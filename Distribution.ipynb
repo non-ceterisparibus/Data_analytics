{
 "cells": [
  {
   "cell_type": "markdown",
   "metadata": {},
   "source": [
    "## Distribution Functions\n",
    "\n",
    "### Table of Contents\n"
   ]
  },
  {
   "cell_type": "code",
   "execution_count": 1,
   "metadata": {},
   "outputs": [],
   "source": [
    "import numpy as np\n",
    "from scipy.special import factorial\n",
    "from IPython.display import display\n",
    "from ipywidgets import widgets\n",
    "import plotly.graph_objects as go\n",
    "\n",
    "from auxiliary.distributions import *\n"
   ]
  },
  {
   "cell_type": "markdown",
   "metadata": {},
   "source": [
    "#### 1. Discrete Distributions\n",
    "##### 1.1 Geometric\n",
    "The geometric distribution is the number of trials needed to get the ﬁrst success, i.e., the\n",
    "number of Bernoulli events until a success is observed, such as the ﬁrst head when ﬂipping\n",
    "a coin. It takes values on the positive integers starting with one (since at least one trial is\n",
    "needed to observe a success).\n",
    "$$\n",
    "\\begin{aligned}\n",
    " & X \\sim Geo(p)  \\\\ \n",
    "& P (X = x|p) = p(1 − p)^{x−1} \\text{    for x = 1, 2, . . .} \\\\\n",
    "& E[X] = \\frac{1}{p}\n",
    "\\end{aligned}\n",
    "$$\n",
    "If the probability of getting a success is p, then the expected number of trials until the ﬁrst\n",
    "success is 1/p.\n",
    "\n",
    "Example: What is the probability that we ﬂip a fair coin four times and don’t see any heads? This is the same as asking what is P (X > 4) where X ∼ Geo(1/2). P (X > 4) = 1 − P (X =\n",
    "1)−P (X = 2)−P (X = 3)−P (X = 4) = 1−(1/2)−(1/2)(1/2)−(1/2)(1/2)2 −(1/2)(1/2)3 =\n",
    "1/16. Of course, we could also have just computed it directly, but here we see an example\n",
    "of using the geometric distribution and we can also see that we got the right answer."
   ]
  },
  {
   "cell_type": "code",
   "execution_count": 2,
   "metadata": {},
   "outputs": [
    {
     "data": {
      "application/vnd.jupyter.widget-view+json": {
       "model_id": "86d5b534dd77481cacfdf3156c84a05c",
       "version_major": 2,
       "version_minor": 0
      },
      "text/plain": [
       "VBox(children=(HBox(children=(FloatSlider(value=0.5, description='p:', max=1.0),)), FigureWidget({\n",
       "    'data':…"
      ]
     },
     "metadata": {},
     "output_type": "display_data"
    }
   ],
   "source": [
    "n = 20\n",
    "geom = Geometric(n)\n",
    "geom.InteractivePlotP()\n",
    "widgets.VBox([geom.container, geom.fig])"
   ]
  },
  {
   "cell_type": "markdown",
   "metadata": {},
   "source": [
    "#### 1.2 Binomial Distribution\n",
    "\n",
    "$$\n",
    "\\begin{aligned}\n",
    " & X \\sim Binomial(p)  \\\\ \n",
    "& P (X = x|p) =  \\frac{n!}{x!(n-x)!} p^x (1-p)^{n-k} \\text{    for x = 1, 2, . . .} \\\\\n",
    "& E[X] = np \\\\\n",
    "& Var[X] = np(1-p)\n",
    "\\end{aligned}\n",
    "$$\n"
   ]
  },
  {
   "cell_type": "code",
   "execution_count": 4,
   "metadata": {},
   "outputs": [
    {
     "data": {
      "application/vnd.jupyter.widget-view+json": {
       "model_id": "3d415868417b42a5a487276053aa9c6e",
       "version_major": 2,
       "version_minor": 0
      },
      "text/plain": [
       "VBox(children=(HBox(children=(FloatSlider(value=0.5, description='p:', max=1.0),)), FigureWidget({\n",
       "    'data':…"
      ]
     },
     "metadata": {},
     "output_type": "display_data"
    }
   ],
   "source": [
    "n = 20\n",
    "bino = Binomial(n)\n",
    "bino.InteractivePlotP()\n",
    "widgets.VBox([bino.container, bino.fig])"
   ]
  },
  {
   "cell_type": "markdown",
   "metadata": {},
   "source": [
    "##### 1.3 Poisson\n",
    "\n",
    "The Poisson distribution is used for counts, and arises in a variety of situations. The param-\n",
    "eter λ > 0 is the rate at which we expect to observe the thing we are counting.\n",
    "A Poisson process is a process wherein events occur on average at rate λ, events occur one\n",
    "at a time, and events occur independently of each other.\n",
    "$$\n",
    "\\begin{aligned}\n",
    " & X \\sim Pois(\\lambda)  \\\\ \n",
    "& P (X = x|\\lambda) = \\frac{\\lambda^{x} exp(−\\lambda)}{x!} \\text{    for x = 1, 2, . . .} \\\\\n",
    "& E[X] = \\lambda \\\\\n",
    "& Var[X] = \\lambda\n",
    "\\end{aligned}\n",
    "$$\n",
    "Example: Signiﬁcant earthquakes occur in the Western United States approximately fol-\n",
    "lowing a Poisson process with rate of two earthquakes per week. What is the probability\n",
    "there will be at least 3 earthquakes in the next two weeks?\n",
    "\n",
    "`` Answer: ``"
   ]
  },
  {
   "cell_type": "code",
   "execution_count": 4,
   "metadata": {},
   "outputs": [
    {
     "data": {
      "application/vnd.jupyter.widget-view+json": {
       "model_id": "d00107d4142c4e82a540435ab5481022",
       "version_major": 2,
       "version_minor": 0
      },
      "text/plain": [
       "VBox(children=(HBox(children=(FloatSlider(value=3.0, description='Lambda:', max=15.0, min=1.0, step=0.5),)), F…"
      ]
     },
     "metadata": {},
     "output_type": "display_data"
    }
   ],
   "source": [
    "pois = Poisson(n=30)\n",
    "pois.InteractivePlotLambd()\n",
    "widgets.VBox([pois.container, pois.fig])"
   ]
  },
  {
   "cell_type": "markdown",
   "metadata": {},
   "source": [
    "### 2.Continuous Distributions\n",
    "#### 2.1  Uniform\n",
    "\n",
    "The uniform distribution is used for random variables whose possible values are equally likely over an interval. If the interval is $(a, b)$, then the uniform probability density function (PDF)\n",
    "$f(x)$ is ﬂat for all values in that interval and 0 everywhere else.\n",
    "\n",
    "$$\n",
    "\\begin{aligned}\n",
    "& X \\sim Uniform(a, b) \\\\\n",
    "& f(x|a, b) = \\frac{1}{(b - a)} I_{\\{0<x<1\\}}(x) \\\\\n",
    "& E[X] = \\frac{a + b}{2} \\\\\n",
    "& Var[X] = \\frac{(b- a)^2}{12} \\\\\n",
    "\\end{aligned}\n",
    "$$\n",
    "\n",
    "#### 2.2  Exponential\n",
    "The exponential distribution is often used to model the waiting time between random events. Indeed, if the waiting times between successive events are independent from an $Exp(\\lambda)$\n",
    "distribution, then for any ﬁxed time window of length t, the number of events occurring in that window will follow a Poisson distribution with mean $t\\lambda$\n",
    "$$\n",
    "\\begin{aligned} \n",
    "& X \\sim Exp(\\lambda) \\\\\n",
    "& f(x|\\lambda) = \\lambda e^{-\\lambda x} I\\{x≥0\\}(x) \\\\\n",
    "& E[X] = \\frac{1}{\\lambda} \\\\\n",
    "& Var[X] = \\frac{1}{\\lambda^2}\n",
    "\\end{aligned}\n",
    "$$\n"
   ]
  },
  {
   "cell_type": "code",
   "execution_count": 5,
   "metadata": {},
   "outputs": [
    {
     "data": {
      "application/vnd.jupyter.widget-view+json": {
       "model_id": "ddd8b3d2e3654828a51469306075d2df",
       "version_major": 2,
       "version_minor": 0
      },
      "text/plain": [
       "VBox(children=(HBox(children=(FloatSlider(value=3.0, description='Lambda:', max=15.0, min=1.0, step=0.5),)), F…"
      ]
     },
     "metadata": {},
     "output_type": "display_data"
    }
   ],
   "source": [
    "n = 10\n",
    "exp = Exponential(n)\n",
    "exp.InteractivePlotLambd()\n",
    "widgets.VBox([exp.container, exp.fig])"
   ]
  },
  {
   "cell_type": "markdown",
   "metadata": {},
   "source": [
    "#### 2.3 Gamma\n",
    "If X1, X2, . . . , Xn are independent (and identically distributed $Exp(\\lambda)$ waiting times between successive events, then the total waiting time for all n events to occur $Y = \\sum_{i}^{n} X_i $ will follow a gamma distribution with shape parameter $ \\alpha = n $ and rate parameter $\\beta = λ$\n",
    "\n",
    "$$\n",
    "\\begin{aligned}\n",
    "& Y ∼ \\Gamma(\\alpha, \\beta)\\\\\n",
    "& f(y|\\alpha, \\beta) = \\frac{\\beta^\\alpha}{\\Gamma(\\alpha)} y^{\\alpha−1} e^{−\\beta y} I_{\\{y≥0\\}}(y) \\\\\n",
    "& E[Y] = \\frac{\\alpha}{\\beta} \\\\\n",
    "& Var[Y ] = \\frac{\\alpha}{\\beta^2} \\\\\n",
    "\\end{aligned}\n",
    "$$"
   ]
  },
  {
   "cell_type": "code",
   "execution_count": 2,
   "metadata": {},
   "outputs": [
    {
     "data": {
      "application/vnd.jupyter.widget-view+json": {
       "model_id": "8b2c5dc1fd284b35941769480e452a39",
       "version_major": 2,
       "version_minor": 0
      },
      "text/plain": [
       "VBox(children=(HBox(children=(IntSlider(value=2, description='Alpha:', max=7, min=1), IntSlider(value=5, descr…"
      ]
     },
     "metadata": {},
     "output_type": "display_data"
    }
   ],
   "source": [
    "n = 20\n",
    "g = Gamma(n)\n",
    "g.InteractivePlotAB()\n",
    "widgets.VBox([g.container, g.fig])"
   ]
  },
  {
   "cell_type": "markdown",
   "metadata": {},
   "source": [
    "#### 2.4  Beta\n",
    "The beta distribution is used for random variables which take on values between 0 and 1.\n",
    "For this reason (and other reasons we will see later in the course), the beta distribution is\n",
    "commonly used to model probabilities.\n",
    "\n",
    "$$\n",
    "\\begin{aligned}\n",
    "& X \\sim Beta(\\alpha, \\beta) \\\\\n",
    "& f(x|\\alpha, \\beta) = \\frac{\\Gamma (\\alpha + \\beta)}{\\Gamma(\\alpha)\\Gamma(\\beta)} x^{\\alpha -1} (1 − x)^{\\beta−1} I_{\\{0<x<1\\}}(x) \\\\\n",
    "& E[X] = \\frac{\\alpha}{\\alpha + \\beta} \\\\\n",
    "& Var[X] = \\frac{\\alpha \\beta}{(\\alpha + \\beta)^2 (\\alpha + \\beta + 1)} \\\\\n",
    "\\end{aligned}\n",
    "$$\n",
    "where $\\Gamma(·)$ is the gamma function introduced with the gamma distribution. Note also that $\\alpha > 0$ and $\\beta > 0 $ The standard Uniform(0, 1) distribution is a special case of the beta\n",
    "distribution with $\\alpha = \\beta = 1 $."
   ]
  },
  {
   "cell_type": "code",
   "execution_count": 3,
   "metadata": {},
   "outputs": [
    {
     "data": {
      "application/vnd.jupyter.widget-view+json": {
       "model_id": "24c025febab74e9d8bac4153005c0c9a",
       "version_major": 2,
       "version_minor": 0
      },
      "text/plain": [
       "VBox(children=(HBox(children=(IntSlider(value=2, description='Alpha:', max=7, min=1), IntSlider(value=5, descr…"
      ]
     },
     "metadata": {},
     "output_type": "display_data"
    }
   ],
   "source": [
    "n = 50\n",
    "b = Beta(n)\n",
    "b.InteractivePlotAB()\n",
    "widgets.VBox([b.container, b.fig])"
   ]
  },
  {
   "cell_type": "markdown",
   "metadata": {},
   "source": []
  }
 ],
 "metadata": {
  "interpreter": {
   "hash": "f0093c8077930b23095c6df49bfe780a547cc86e8385f623fdd69a01eeaf54de"
  },
  "kernelspec": {
   "display_name": "Python 3.9.9 64-bit ('baystat': conda)",
   "language": "python",
   "name": "python3"
  },
  "language_info": {
   "codemirror_mode": {
    "name": "ipython",
    "version": 3
   },
   "file_extension": ".py",
   "mimetype": "text/x-python",
   "name": "python",
   "nbconvert_exporter": "python",
   "pygments_lexer": "ipython3",
   "version": "3.9.9"
  },
  "orig_nbformat": 4
 },
 "nbformat": 4,
 "nbformat_minor": 2
}
